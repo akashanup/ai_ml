{
 "cells": [
  {
   "cell_type": "code",
   "execution_count": null,
   "id": "6aaee507",
   "metadata": {},
   "outputs": [],
   "source": [
    "%pip install nltk"
   ]
  },
  {
   "cell_type": "code",
   "execution_count": null,
   "id": "298fcb05",
   "metadata": {},
   "outputs": [],
   "source": [
    "import nltk\n",
    "nltk.download('wordnet')"
   ]
  },
  {
   "cell_type": "code",
   "execution_count": null,
   "id": "cd2a7244",
   "metadata": {},
   "outputs": [],
   "source": [
    "words = [\"running\", \"runner\", \"runs\", \"happiness\", \"happy\", \"happily\", \"studies\", \"studying\", \"studied\", \"study\", \"better\", \"best\", \"worse\", \"worst\", \"playing\"]"
   ]
  },
  {
   "cell_type": "code",
   "execution_count": null,
   "id": "f2a4a75a",
   "metadata": {},
   "outputs": [],
   "source": [
    "# WordNet Lemmatizer\n",
    "from nltk.stem import WordNetLemmatizer\n",
    "wordNetLemmatizer = WordNetLemmatizer()\n",
    "for word in words:\n",
    "    print(f\"{word} -> {wordNetLemmatizer.lemmatize(word, pos='n')}\") "
   ]
  }
 ],
 "metadata": {
  "kernelspec": {
   "display_name": ".venv",
   "language": "python",
   "name": "python3"
  },
  "language_info": {
   "codemirror_mode": {
    "name": "ipython",
    "version": 3
   },
   "file_extension": ".py",
   "mimetype": "text/x-python",
   "name": "python",
   "nbconvert_exporter": "python",
   "pygments_lexer": "ipython3",
   "version": "3.9.13"
  }
 },
 "nbformat": 4,
 "nbformat_minor": 5
}
