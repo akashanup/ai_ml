{
 "cells": [
  {
   "cell_type": "code",
   "execution_count": null,
   "id": "16b4e41b",
   "metadata": {},
   "outputs": [],
   "source": [
    "%pip install nltk"
   ]
  },
  {
   "cell_type": "code",
   "execution_count": null,
   "id": "ad854b6b",
   "metadata": {},
   "outputs": [],
   "source": [
    "words = [\"running\", \"runner\", \"runs\", \"happiness\", \"happy\", \"happily\", \"studies\", \"studying\", \"studied\", \"study\", \"better\", \"best\", \"worse\", \"worst\", \"playing\"]"
   ]
  },
  {
   "cell_type": "code",
   "execution_count": null,
   "id": "8b2c314c",
   "metadata": {},
   "outputs": [],
   "source": [
    "# PorterStemmer\n",
    "from nltk.stem import PorterStemmer\n",
    "for word in words:\n",
    "    stemmer = PorterStemmer()\n",
    "    print(f\"Original: {word} => Stemmed: {stemmer.stem(word)}\")"
   ]
  },
  {
   "cell_type": "code",
   "execution_count": null,
   "id": "927bedb0",
   "metadata": {},
   "outputs": [],
   "source": [
    "# LancasterStemmer\n",
    "from nltk.stem import LancasterStemmer\n",
    "for word in words:\n",
    "    stemmer = LancasterStemmer()\n",
    "    print(f\"Original: {word} => Stemmed: {stemmer.stem(word)}\")\n"
   ]
  },
  {
   "cell_type": "code",
   "execution_count": null,
   "id": "728bea31",
   "metadata": {},
   "outputs": [],
   "source": [
    "# Regex-based stemming\n",
    "from nltk.stem import RegexpStemmer\n",
    "# $ indicates the index from where to stem\n",
    "# This pattern will remove 'ies', 'ed', 'ing', 's', and 'es' from the end of the words\n",
    "pattern = r'ies$|ed$|ing$|s$|es$' \n",
    "for word in words:\n",
    "    stemmer = RegexpStemmer(pattern)\n",
    "    print(f\"Original: {word} => Stemmed: {stemmer.stem(word)}\")"
   ]
  },
  {
   "cell_type": "code",
   "execution_count": null,
   "id": "516b005b",
   "metadata": {},
   "outputs": [],
   "source": [
    "# SnowballStemmer\n",
    "from nltk.stem import SnowballStemmer\n",
    "for word in words:\n",
    "    stemmer = SnowballStemmer(\"english\")\n",
    "    print(f\"Original: {word} => Stemmed: {stemmer.stem(word)}\")"
   ]
  }
 ],
 "metadata": {
  "kernelspec": {
   "display_name": ".venv",
   "language": "python",
   "name": "python3"
  },
  "language_info": {
   "codemirror_mode": {
    "name": "ipython",
    "version": 3
   },
   "file_extension": ".py",
   "mimetype": "text/x-python",
   "name": "python",
   "nbconvert_exporter": "python",
   "pygments_lexer": "ipython3",
   "version": "3.9.13"
  }
 },
 "nbformat": 4,
 "nbformat_minor": 5
}
