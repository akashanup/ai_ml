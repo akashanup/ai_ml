{
 "cells": [
  {
   "cell_type": "code",
   "execution_count": null,
   "id": "4532f91b",
   "metadata": {},
   "outputs": [],
   "source": [
    "%pip install scikit-learn"
   ]
  },
  {
   "cell_type": "code",
   "execution_count": null,
   "id": "d3b06d5e",
   "metadata": {},
   "outputs": [],
   "source": [
    "import sklearn\n",
    "from sklearn.feature_extraction.text import CountVectorizer"
   ]
  },
  {
   "cell_type": "code",
   "execution_count": null,
   "id": "fa93e5a6",
   "metadata": {},
   "outputs": [],
   "source": [
    "# Sample data\n",
    "documents = [\"Maths is good and Physics is good\", \"Maths is good but Chemistry is bad\"]"
   ]
  },
  {
   "cell_type": "code",
   "execution_count": null,
   "id": "fba4cc48",
   "metadata": {},
   "outputs": [],
   "source": [
    "# Create the Bag of Words model\n",
    "vectorizer = CountVectorizer()\n",
    "X = vectorizer.fit_transform(documents)"
   ]
  },
  {
   "cell_type": "code",
   "execution_count": null,
   "id": "b6bcd6e9",
   "metadata": {},
   "outputs": [],
   "source": [
    "# Convert to array for better readability\n",
    "print(X.toarray())\n",
    "\n",
    "# Display the vocabulary\n",
    "print(vectorizer.get_feature_names_out())"
   ]
  }
 ],
 "metadata": {
  "kernelspec": {
   "display_name": ".venv",
   "language": "python",
   "name": "python3"
  },
  "language_info": {
   "codemirror_mode": {
    "name": "ipython",
    "version": 3
   },
   "file_extension": ".py",
   "mimetype": "text/x-python",
   "name": "python",
   "nbconvert_exporter": "python",
   "pygments_lexer": "ipython3",
   "version": "3.9.13"
  }
 },
 "nbformat": 4,
 "nbformat_minor": 5
}
