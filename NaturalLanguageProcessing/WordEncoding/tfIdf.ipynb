{
 "cells": [
  {
   "cell_type": "code",
   "execution_count": null,
   "id": "0892847c",
   "metadata": {},
   "outputs": [],
   "source": [
    "%pip install scikit-learn"
   ]
  },
  {
   "cell_type": "code",
   "execution_count": null,
   "id": "56730e31",
   "metadata": {},
   "outputs": [],
   "source": [
    "from sklearn.feature_extraction.text import TfidfVectorizer"
   ]
  },
  {
   "cell_type": "code",
   "execution_count": null,
   "id": "5430a20f",
   "metadata": {},
   "outputs": [],
   "source": [
    "# Sample data\n",
    "documents = [\"I love machine learning\", \"Machine learning is fun\", \"I love fun activities\"]"
   ]
  },
  {
   "cell_type": "code",
   "execution_count": null,
   "id": "11dace9c",
   "metadata": {},
   "outputs": [],
   "source": [
    "# Create the TF-IDF model\n",
    "vectorizer = TfidfVectorizer()\n",
    "X = vectorizer.fit_transform(documents)\n",
    "\n",
    "# Convert to array for better readability\n",
    "print(X.toarray())\n",
    "\n",
    "# Display the vocabulary\n",
    "print(vectorizer.get_feature_names_out())"
   ]
  }
 ],
 "metadata": {
  "kernelspec": {
   "display_name": ".venv",
   "language": "python",
   "name": "python3"
  },
  "language_info": {
   "codemirror_mode": {
    "name": "ipython",
    "version": 3
   },
   "file_extension": ".py",
   "mimetype": "text/x-python",
   "name": "python",
   "nbconvert_exporter": "python",
   "pygments_lexer": "ipython3",
   "version": "3.9.13"
  }
 },
 "nbformat": 4,
 "nbformat_minor": 5
}
