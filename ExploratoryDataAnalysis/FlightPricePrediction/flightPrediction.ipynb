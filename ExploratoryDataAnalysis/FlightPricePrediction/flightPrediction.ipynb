{
 "cells": [
  {
   "cell_type": "code",
   "execution_count": null,
   "id": "806732c3",
   "metadata": {},
   "outputs": [],
   "source": [
    "%pip install -r requirements.txt"
   ]
  },
  {
   "cell_type": "code",
   "execution_count": null,
   "id": "3b9e12f8",
   "metadata": {},
   "outputs": [],
   "source": [
    "import pandas as pd\n",
    "import numpy as np\n",
    "import matplotlib.pyplot as plt\n",
    "import sklearn\n",
    "import seaborn as sns\n",
    "import matplotlib\n",
    "# To show diagrams inline.\n",
    "%matplotlib inline"
   ]
  },
  {
   "cell_type": "code",
   "execution_count": null,
   "id": "456282c0",
   "metadata": {},
   "outputs": [],
   "source": [
    "df_train = pd.read_excel('train_data.xlsx')\n",
    "df_test = pd.read_excel('test_data.xlsx')"
   ]
  },
  {
   "cell_type": "code",
   "execution_count": null,
   "id": "04350923",
   "metadata": {},
   "outputs": [],
   "source": [
    "df_train.head()"
   ]
  },
  {
   "cell_type": "code",
   "execution_count": null,
   "id": "8304c6a4",
   "metadata": {},
   "outputs": [],
   "source": [
    "df_test.head()"
   ]
  },
  {
   "cell_type": "code",
   "execution_count": null,
   "id": "05752d0b",
   "metadata": {},
   "outputs": [],
   "source": [
    "df = pd.concat([df_train, df_test], axis=0, ignore_index=True)\n",
    "df.info()"
   ]
  },
  {
   "cell_type": "code",
   "execution_count": null,
   "id": "497df26d",
   "metadata": {},
   "outputs": [],
   "source": [
    "print(df_train.shape, df_test.shape, df.shape)"
   ]
  },
  {
   "cell_type": "code",
   "execution_count": null,
   "id": "8e1583bb",
   "metadata": {},
   "outputs": [],
   "source": [
    "# Create derived features for Date_Of_Journey\n",
    "date = df['Date_of_Journey'].str.split('/', expand=True)\n",
    "date.columns = ['Day', 'Month', 'Year']\n",
    "df['Day'] = date['Day'].astype(int)\n",
    "df['Month'] = date['Month'].astype(int)\n",
    "df['Year'] = date['Year'].astype(int)\n",
    "df.drop(['Date_of_Journey'], axis=1, inplace=True)\n"
   ]
  },
  {
   "cell_type": "code",
   "execution_count": null,
   "id": "3814f21a",
   "metadata": {},
   "outputs": [],
   "source": [
    "df.head()"
   ]
  },
  {
   "cell_type": "code",
   "execution_count": null,
   "id": "761c8280",
   "metadata": {},
   "outputs": [],
   "source": [
    "df.info()"
   ]
  },
  {
   "cell_type": "code",
   "execution_count": null,
   "id": "05f8806b",
   "metadata": {},
   "outputs": [],
   "source": [
    "df.isnull().sum()"
   ]
  },
  {
   "cell_type": "markdown",
   "id": "1687dfb4",
   "metadata": {},
   "source": [
    "# Observation\n",
    "1. Day, Month and Year are now integers.\n",
    "2. Route and Total_Stops have one null value.\n",
    "3. Null value of Price is because of test data"
   ]
  },
  {
   "cell_type": "code",
   "execution_count": null,
   "id": "f290d121",
   "metadata": {},
   "outputs": [],
   "source": [
    "# Focus on Arrival_Time and Departure_Time\n",
    "df['Arrival_Time'] = df['Arrival_Time'].str.split(' ').str[0]\n",
    "# Above can also be done using lambda function\n",
    "# df['Arrival_Time'] = df['Arrival_Time'].apply(lambda x: x.split(' ')[0])\n"
   ]
  },
  {
   "cell_type": "code",
   "execution_count": null,
   "id": "cced904d",
   "metadata": {},
   "outputs": [],
   "source": [
    "# Convert Arrival_Time to hours and minutes\n",
    "df['Arrival_Hour'] = df['Arrival_Time'].str.split(':').str[0].astype(int)\n",
    "df['Arrival_Minute'] = df['Arrival_Time'].str.split(':').str[1].astype(int)\n",
    "# Drop Arrival_Time column\n",
    "df.drop(['Arrival_Time'], axis=1, inplace=True)\n",
    "df.head()"
   ]
  },
  {
   "cell_type": "code",
   "execution_count": null,
   "id": "e895be79",
   "metadata": {},
   "outputs": [],
   "source": [
    "# Convert Dep_Time to hours and minutes\n",
    "df['Departure_Hour'] = df['Dep_Time'].str.split(':').str[0].astype(int)\n",
    "df['Departure_Minute'] = df['Dep_Time'].str.split(':').str[1].astype(int)\n",
    "# Drop Dep_Time column\n",
    "df.drop(['Dep_Time'], axis=1, inplace=True)\n",
    "df.head()"
   ]
  },
  {
   "cell_type": "markdown",
   "id": "d3732887",
   "metadata": {},
   "source": [
    "### Observation\n",
    "1. We can drop Routes as we already have Source, Destination and Total_Stops. To predict the price, Source, Destination and Total_Stops would be required.\n",
    "2. We would need to convert Total_Stops into integers."
   ]
  },
  {
   "cell_type": "code",
   "execution_count": null,
   "id": "740a1d49",
   "metadata": {},
   "outputs": [],
   "source": [
    "# Drop Route column\n",
    "df.drop(['Route'], axis=1, inplace=True)"
   ]
  },
  {
   "cell_type": "code",
   "execution_count": null,
   "id": "a0eb9116",
   "metadata": {},
   "outputs": [],
   "source": [
    "# Working on Total_Stops\n",
    "# Checking for null values in Total_Stops column\n",
    "df['Total_Stops'].isnull().sum()\n",
    "# Finding out the null values in Total_Stops column\n",
    "df[df['Total_Stops'].isnull()]"
   ]
  },
  {
   "cell_type": "code",
   "execution_count": null,
   "id": "afa1bf7d",
   "metadata": {},
   "outputs": [],
   "source": [
    "# Filling null values with 'non-stop'. Since it is just one row, so this won't make much difference\n",
    "df['Total_Stops'].fillna('non-stop', inplace=True)\n",
    "df['Total_Stops'] = df['Total_Stops'].map({'non-stop': 0, '1 stop': 1, '2 stops': 2, '3 stops': 3, '4 stops': 4})\n",
    "df.head()"
   ]
  },
  {
   "cell_type": "code",
   "execution_count": null,
   "id": "271ab2d9",
   "metadata": {},
   "outputs": [],
   "source": [
    "df['Duration'].unique()"
   ]
  },
  {
   "cell_type": "markdown",
   "id": "d30f1a76",
   "metadata": {},
   "source": [
    "### Observation\n",
    "1. There are three types of values for Duration-\n",
    "  - **h **m\n",
    "  - **h\n",
    "  - **m\n",
    "2. We need to handle this carefully."
   ]
  },
  {
   "cell_type": "code",
   "execution_count": null,
   "id": "2673fbc2",
   "metadata": {},
   "outputs": [],
   "source": [
    "duration = df['Duration'].str.split(' ')\n",
    "duration_hours_and_minutes = pd.DataFrame([dur for dur in duration if len(dur) == 2])\n",
    "duration_hours_or_minutes = pd.DataFrame([dur for dur in duration if len(dur) == 1])\n",
    "\n",
    "# Verify the filtered data\n",
    "duration_hours_and_minutes.head(), duration_hours_or_minutes.head()"
   ]
  },
  {
   "cell_type": "code",
   "execution_count": null,
   "id": "7bda4543",
   "metadata": {},
   "outputs": [],
   "source": [
    "duration_hours_or_minutes[0].unique()"
   ]
  },
  {
   "cell_type": "markdown",
   "id": "7b90143e",
   "metadata": {},
   "source": [
    "### Observation\n",
    "1. There are instances where flight duration is only 5 minutes.\n",
    "2. Practically these values aren't possible so we should drop them."
   ]
  },
  {
   "cell_type": "code",
   "execution_count": null,
   "id": "a50a483f",
   "metadata": {},
   "outputs": [],
   "source": [
    "duration_hours_or_minutes[duration_hours_or_minutes[0] == '5m']"
   ]
  },
  {
   "cell_type": "code",
   "execution_count": null,
   "id": "5046a1b0",
   "metadata": {},
   "outputs": [],
   "source": [
    "# Drop the rows with only 5 minutes of duration\n",
    "duration_hours_or_minutes.drop(595, inplace=True, axis=0)\n",
    "duration_hours_or_minutes.drop(1285, inplace=True, axis=0)\n",
    "df.drop([595, 1285], inplace=True, axis=0)\n",
    "duration_hours_or_minutes[0].unique()"
   ]
  },
  {
   "cell_type": "code",
   "execution_count": null,
   "id": "2ad03dcb",
   "metadata": {},
   "outputs": [],
   "source": [
    "# Appending 0m to rows with only hours in duration_hours_or_minutes\n",
    "duration_hours_or_minutes[1] = ' 0m'\n",
    "duration_hours_or_minutes.head()"
   ]
  },
  {
   "cell_type": "code",
   "execution_count": null,
   "id": "5e6da405",
   "metadata": {},
   "outputs": [],
   "source": [
    "# Appending duration_hours_or_minutes to duration_hours_and_minutes\n",
    "duration_hours_and_minutes = pd.concat([duration_hours_and_minutes, duration_hours_or_minutes], axis=0, ignore_index=True)\n",
    "print(df['Duration'].shape, duration_hours_and_minutes.shape)"
   ]
  },
  {
   "cell_type": "code",
   "execution_count": null,
   "id": "4867cb98",
   "metadata": {},
   "outputs": [],
   "source": [
    "# Convert duration_hours_and_minutes to hours and minutes\n",
    "duration_hour = duration_hours_and_minutes[0]\n",
    "duration_minute = duration_hours_and_minutes[1]\n",
    "duration_hour.head(), duration_minute.head()"
   ]
  },
  {
   "cell_type": "code",
   "execution_count": null,
   "id": "8ed6c327",
   "metadata": {},
   "outputs": [],
   "source": [
    "# Merging duration_hours and duration_minutes\n",
    "df['Duration_Hour'] = duration_hour.str.split('h').str[0].astype(int)\n",
    "df['Duration_Minute'] = duration_minute.str.split('m').str[0].astype(int)\n",
    "# Drop Duration column\n",
    "df.drop(['Duration'], axis=1, inplace=True)\n",
    "df.head()"
   ]
  },
  {
   "cell_type": "code",
   "execution_count": null,
   "id": "f8997757",
   "metadata": {},
   "outputs": [],
   "source": [
    "df.info()"
   ]
  },
  {
   "cell_type": "code",
   "execution_count": null,
   "id": "2fc03c17",
   "metadata": {},
   "outputs": [],
   "source": [
    "# Convert categorical variables to numerical variables using label encoding\n",
    "print(df['Airline'].unique(), df['Source'].unique(), df['Destination'].unique(), df['Additional_Info'].unique())"
   ]
  },
  {
   "cell_type": "code",
   "execution_count": null,
   "id": "91c37cc2",
   "metadata": {},
   "outputs": [],
   "source": [
    "from sklearn.preprocessing import LabelEncoder\n",
    "le = LabelEncoder()"
   ]
  },
  {
   "cell_type": "code",
   "execution_count": null,
   "id": "40a8a34a",
   "metadata": {},
   "outputs": [],
   "source": [
    "df['Airline'] = le.fit_transform(df['Airline'])\n",
    "df['Source'] = le.fit_transform(df['Source'])\n",
    "df['Destination'] = le.fit_transform(df['Destination'])\n",
    "df['Additional_Info'] = le.fit_transform(df['Additional_Info'])\n",
    "df.head()"
   ]
  },
  {
   "cell_type": "code",
   "execution_count": null,
   "id": "091a3573",
   "metadata": {},
   "outputs": [],
   "source": [
    "# We can also use OneHotEncoder for categorical variables\n",
    "# from sklearn.preprocessing import OneHotEncoder\n",
    "\n",
    "# ohe = OneHotEncoder(sparse=False, drop='first')\n",
    "# df_airline = ohe.fit_transform(df[['Airline']])\n",
    "# df_source = ohe.fit_transform(df[['Source']])\n",
    "# df_destination = ohe.fit_transform(df[['Destination']])\n",
    "# df_additional_info = ohe.fit_transform(df[['Additional_Info']])\n",
    "# df_airline = pd.DataFrame(df_airline, columns=ohe.get_feature_names_out(['Airline']))\n",
    "# df_source = pd.DataFrame(df_source, columns=ohe.get_feature_names_out(['Source']))\n",
    "# df_destination = pd.DataFrame(df_destination, columns=ohe.get_feature_names_out(['Destination']))\n",
    "# df_additional_info = pd.DataFrame(df_additional_info, columns=ohe.get_feature_names_out(['Additional_Info']))"
   ]
  }
 ],
 "metadata": {
  "kernelspec": {
   "display_name": ".venv",
   "language": "python",
   "name": "python3"
  },
  "language_info": {
   "codemirror_mode": {
    "name": "ipython",
    "version": 3
   },
   "file_extension": ".py",
   "mimetype": "text/x-python",
   "name": "python",
   "nbconvert_exporter": "python",
   "pygments_lexer": "ipython3",
   "version": "3.9.13"
  }
 },
 "nbformat": 4,
 "nbformat_minor": 5
}
