{
 "cells": [
  {
   "cell_type": "code",
   "execution_count": null,
   "id": "5c1b9ca0",
   "metadata": {},
   "outputs": [],
   "source": [
    "%pip install -r requirements.txt"
   ]
  },
  {
   "cell_type": "code",
   "execution_count": null,
   "id": "803172f9",
   "metadata": {},
   "outputs": [],
   "source": [
    "# dataset link: https://www.kaggle.com/sdolezel/black-friday?select=train.csv\n",
    "\n",
    "import pandas as pd\n",
    "import numpy as np\n",
    "import matplotlib.pyplot as plt\n",
    "import sklearn\n",
    "import seaborn as sns\n",
    "import matplotlib\n",
    "%matplotlib inline"
   ]
  },
  {
   "cell_type": "markdown",
   "id": "1b5c52d2",
   "metadata": {},
   "source": [
    "### Problem Statement\n",
    "A retail company “ABC Private Limited” wants to understand the customer purchase behaviour (specifically, purchase amount) against various products of different categories. They have shared purchase summary of various customers for selected high volume products from last month. The data set also contains customer demographics (age, gender, marital status, city_type, stay_in_current_city), product details (product_id and product category) and Total purchase_amount from last month.\n",
    "\n",
    "Now, they want to build a model to predict the purchase amount of customer against various products which will help them to create personalized offer for customers against different products."
   ]
  },
  {
   "cell_type": "code",
   "execution_count": null,
   "id": "c2926124",
   "metadata": {},
   "outputs": [],
   "source": [
    "df_train = pd.read_csv('train.csv')\n",
    "df_train.head()"
   ]
  },
  {
   "cell_type": "code",
   "execution_count": null,
   "id": "e1d454e4",
   "metadata": {},
   "outputs": [],
   "source": [
    "df_test = pd.read_csv('test.csv')\n",
    "df_test.head()"
   ]
  },
  {
   "cell_type": "code",
   "execution_count": null,
   "id": "d2540e3c",
   "metadata": {},
   "outputs": [],
   "source": [
    "# Append test and train data using concat\n",
    "df = pd.concat([df_train, df_test], ignore_index=True)\n",
    "df.head()"
   ]
  },
  {
   "cell_type": "code",
   "execution_count": null,
   "id": "bdfc8e98",
   "metadata": {},
   "outputs": [],
   "source": [
    "df.info()"
   ]
  },
  {
   "cell_type": "code",
   "execution_count": null,
   "id": "eb04ca31",
   "metadata": {},
   "outputs": [],
   "source": [
    "df.describe()"
   ]
  },
  {
   "cell_type": "code",
   "execution_count": null,
   "id": "4e3b9ece",
   "metadata": {},
   "outputs": [],
   "source": [
    "df.size"
   ]
  },
  {
   "cell_type": "code",
   "execution_count": null,
   "id": "472effca",
   "metadata": {},
   "outputs": [],
   "source": [
    "df.shape"
   ]
  },
  {
   "cell_type": "code",
   "execution_count": null,
   "id": "73238a68",
   "metadata": {},
   "outputs": [],
   "source": [
    "df.isnull().sum()"
   ]
  },
  {
   "cell_type": "code",
   "execution_count": null,
   "id": "4d81d24f",
   "metadata": {},
   "outputs": [],
   "source": [
    "# Drop product_id and user_id columns as they would not useful for our analysis\n",
    "df.drop(['Product_ID', 'User_ID'], axis=1, inplace=True)\n"
   ]
  },
  {
   "cell_type": "code",
   "execution_count": null,
   "id": "9190e08b",
   "metadata": {},
   "outputs": [],
   "source": [
    "df.head()"
   ]
  },
  {
   "cell_type": "code",
   "execution_count": null,
   "id": "0f7679fe",
   "metadata": {},
   "outputs": [],
   "source": [
    "# Encode categorical variable, Gender\n",
    "df['Gender'] = df['Gender'].map({'F': 0, 'M': 1})\n",
    "df.head()"
   ]
  },
  {
   "cell_type": "code",
   "execution_count": null,
   "id": "5b7c8fac",
   "metadata": {},
   "outputs": [],
   "source": [
    "df['Age'].unique()"
   ]
  },
  {
   "cell_type": "code",
   "execution_count": null,
   "id": "cc4a40e6",
   "metadata": {},
   "outputs": [],
   "source": [
    "# Encode categorical variable, Age\n",
    "df['Age'] = df['Age'].map({'0-17': 1, '18-25': 2, '26-35': 3, '36-45': 4, '46-50': 5, '51-55': 6, '55+': 7})\n",
    "df.head()"
   ]
  },
  {
   "cell_type": "code",
   "execution_count": null,
   "id": "d19c9393",
   "metadata": {},
   "outputs": [],
   "source": [
    "# Encode categorical variable, City_Category\n",
    "# df['City_Category'] = df['City_Category'].map({'A': 0, 'B': 1, 'C': 2})\n",
    "# If there are n categories, we can use n-1 dummy variables to represent them. This is one hot encoding. \n",
    "df_city = pd.get_dummies(df['City_Category'], drop_first=True)\n",
    "df_city.head()"
   ]
  },
  {
   "cell_type": "code",
   "execution_count": null,
   "id": "bdd8b77b",
   "metadata": {},
   "outputs": [],
   "source": [
    "df = pd.concat([df, df_city], axis=1)\n",
    "df.drop(['City_Category'], axis=1, inplace=True)\n",
    "df.head()"
   ]
  },
  {
   "cell_type": "code",
   "execution_count": null,
   "id": "7dfea204",
   "metadata": {},
   "outputs": [],
   "source": [
    "# Check for missing values again\n",
    "df.isnull().sum()"
   ]
  },
  {
   "cell_type": "markdown",
   "id": "e77a8da7",
   "metadata": {},
   "source": [
    "### Observation\n",
    "1. Purchase has null values because it has test data also.\n",
    "2. We should focus on Product_Category_2 and Product_Category_3"
   ]
  },
  {
   "cell_type": "code",
   "execution_count": null,
   "id": "d817764e",
   "metadata": {},
   "outputs": [],
   "source": [
    "# Focus on the Product_Category_2 and Product_Category_3 columns\n",
    "df['Product_Category_2'].unique()"
   ]
  },
  {
   "cell_type": "code",
   "execution_count": null,
   "id": "6dcbe054",
   "metadata": {},
   "outputs": [],
   "source": [
    "df['Product_Category_2'].value_counts().sort_index()"
   ]
  },
  {
   "cell_type": "code",
   "execution_count": null,
   "id": "0193d4dd",
   "metadata": {},
   "outputs": [],
   "source": [
    "# Replace missing values with mode\n",
    "df['Product_Category_2'].mode()"
   ]
  },
  {
   "cell_type": "code",
   "execution_count": null,
   "id": "42c1c5fa",
   "metadata": {},
   "outputs": [],
   "source": [
    "df['Product_Category_2'] = df['Product_Category_2'].fillna(df['Product_Category_2'].mode()[0])\n",
    "df['Product_Category_2'].unique()"
   ]
  },
  {
   "cell_type": "code",
   "execution_count": null,
   "id": "6fea3caf",
   "metadata": {},
   "outputs": [],
   "source": [
    "df['Product_Category_2'].isnull().sum()"
   ]
  },
  {
   "cell_type": "code",
   "execution_count": null,
   "id": "a8ddd1d2",
   "metadata": {},
   "outputs": [],
   "source": [
    "# Do same for Product_Category_3\n",
    "df['Product_Category_3'].mode()"
   ]
  },
  {
   "cell_type": "code",
   "execution_count": null,
   "id": "abcaba82",
   "metadata": {},
   "outputs": [],
   "source": [
    "df['Product_Category_3'] = df['Product_Category_3'].fillna(df['Product_Category_3'].mode()[0])\n",
    "df['Product_Category_3'].isnull().sum()"
   ]
  },
  {
   "cell_type": "code",
   "execution_count": null,
   "id": "0b1c7090",
   "metadata": {},
   "outputs": [],
   "source": [
    "# Now work on Stay_In_Current_City_Years\n",
    "df['Stay_In_Current_City_Years'].unique()"
   ]
  },
  {
   "cell_type": "code",
   "execution_count": null,
   "id": "ecad263a",
   "metadata": {},
   "outputs": [],
   "source": [
    "df['Stay_In_Current_City_Years'] = df['Stay_In_Current_City_Years'].str.replace('+', '')\n",
    "df['Stay_In_Current_City_Years'].unique()"
   ]
  },
  {
   "cell_type": "code",
   "execution_count": null,
   "id": "7c0e2b45",
   "metadata": {},
   "outputs": [],
   "source": [
    "df.info()"
   ]
  },
  {
   "cell_type": "markdown",
   "id": "1a24f243",
   "metadata": {},
   "source": [
    "### Observation\n",
    "1. Stay_In_Current_City_Years is still an object so we need to convert it into int."
   ]
  },
  {
   "cell_type": "code",
   "execution_count": null,
   "id": "be3b2d0a",
   "metadata": {},
   "outputs": [],
   "source": [
    "# Convert Stay_In_Current_City_Years to int\n",
    "df['Stay_In_Current_City_Years'] = df['Stay_In_Current_City_Years'].astype(int)\n",
    "df.info()"
   ]
  },
  {
   "cell_type": "code",
   "execution_count": null,
   "id": "0c66cc4e",
   "metadata": {},
   "outputs": [],
   "source": [
    "# Convert B and C to 0 and 1 and of type int\n",
    "df['B'] = df['B'].map({False: 0, True: 1})\n",
    "df['C'] = df['C'].map({False: 0, True: 1})\n",
    "df.head()"
   ]
  },
  {
   "cell_type": "code",
   "execution_count": null,
   "id": "eeab5fb5",
   "metadata": {},
   "outputs": [],
   "source": [
    "df['B'] = df['B'].astype(int)\n",
    "df['C'] = df['C'].astype(int)\n",
    "df.info()"
   ]
  },
  {
   "cell_type": "code",
   "execution_count": null,
   "id": "f11a95fc",
   "metadata": {},
   "outputs": [],
   "source": [
    "# Visualize the Age vs Purchase\n",
    "plt.figure(figsize=(10, 6))\n",
    "sns.barplot(x='Age', y='Purchase', data=df, hue='Gender')"
   ]
  },
  {
   "cell_type": "markdown",
   "id": "fbba86e5",
   "metadata": {},
   "source": [
    "### Observation\n",
    "1. Females purchase more than Males."
   ]
  },
  {
   "cell_type": "code",
   "execution_count": null,
   "id": "a8cca4bd",
   "metadata": {},
   "outputs": [],
   "source": [
    "# Visualize the Purchase vs Occupation\n",
    "plt.figure(figsize=(12, 8))\n",
    "sns.barplot(x='Occupation', y='Purchase', data=df,  hue='Gender')"
   ]
  },
  {
   "cell_type": "code",
   "execution_count": null,
   "id": "89ae5363",
   "metadata": {},
   "outputs": [],
   "source": [
    "# Visualize the Product_Category_1 vs Purchase\n",
    "plt.figure(figsize=(12, 8))\n",
    "sns.barplot(x='Product_Category_1', y='Purchase', data=df,  hue='Gender')"
   ]
  },
  {
   "cell_type": "code",
   "execution_count": null,
   "id": "d9239d7c",
   "metadata": {},
   "outputs": [],
   "source": [
    "# Visualize the Product_Category_2 vs Purchase\n",
    "plt.figure(figsize=(12, 8))\n",
    "sns.barplot(x='Product_Category_2', y='Purchase', data=df,  hue='Gender')"
   ]
  },
  {
   "cell_type": "code",
   "execution_count": null,
   "id": "6fa12d46",
   "metadata": {},
   "outputs": [],
   "source": [
    "# Visualize the Product_Category_3 vs Purchase\n",
    "plt.figure(figsize=(12, 8))\n",
    "sns.barplot(x='Product_Category_3', y='Purchase', data=df,  hue='Gender')"
   ]
  },
  {
   "cell_type": "code",
   "execution_count": null,
   "id": "ad2f2848",
   "metadata": {},
   "outputs": [],
   "source": [
    "# Filter out the test and train data\n",
    "# Test data has null values in Purchase column\n",
    "df_test = df[df['Purchase'].isnull()]\n",
    "df_train = df[df['Purchase'].notnull()]"
   ]
  },
  {
   "cell_type": "code",
   "execution_count": null,
   "id": "972955b0",
   "metadata": {},
   "outputs": [],
   "source": [
    "print(df_train.shape, df_test.shape)"
   ]
  },
  {
   "cell_type": "code",
   "execution_count": null,
   "id": "c044387f",
   "metadata": {},
   "outputs": [],
   "source": [
    "df_train.head()"
   ]
  },
  {
   "cell_type": "code",
   "execution_count": null,
   "id": "9f2c1152",
   "metadata": {},
   "outputs": [],
   "source": [
    "df_test.head()"
   ]
  },
  {
   "cell_type": "code",
   "execution_count": null,
   "id": "df2c6ac7",
   "metadata": {},
   "outputs": [],
   "source": [
    "# Train Test split\n",
    "from sklearn.model_selection import train_test_split\n",
    "X = df_train.drop(['Purchase'], axis=1)\n",
    "y = df_train['Purchase']\n",
    "X_train, X_test, y_train, y_test = train_test_split(X, y, test_size=0.2, random_state=42)"
   ]
  },
  {
   "cell_type": "code",
   "execution_count": null,
   "id": "c44d7587",
   "metadata": {},
   "outputs": [],
   "source": [
    "X_train.shape, X_test.shape"
   ]
  },
  {
   "cell_type": "code",
   "execution_count": null,
   "id": "a4d0a8f2",
   "metadata": {},
   "outputs": [],
   "source": [
    "y_train.shape, y_test.shape"
   ]
  },
  {
   "cell_type": "code",
   "execution_count": null,
   "id": "8901a62e",
   "metadata": {},
   "outputs": [],
   "source": [
    "# Feature Scaling\n",
    "from sklearn.preprocessing import StandardScaler\n",
    "scaler = StandardScaler()\n",
    "X_train = scaler.fit_transform(X_train)\n",
    "X_test = scaler.transform(X_test)\n",
    "X_train.shape, X_test.shape"
   ]
  }
 ],
 "metadata": {
  "kernelspec": {
   "display_name": ".venv",
   "language": "python",
   "name": "python3"
  },
  "language_info": {
   "codemirror_mode": {
    "name": "ipython",
    "version": 3
   },
   "file_extension": ".py",
   "mimetype": "text/x-python",
   "name": "python",
   "nbconvert_exporter": "python",
   "pygments_lexer": "ipython3",
   "version": "3.12.9"
  }
 },
 "nbformat": 4,
 "nbformat_minor": 5
}
