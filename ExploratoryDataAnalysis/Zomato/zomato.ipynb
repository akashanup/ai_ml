{
 "cells": [
  {
   "cell_type": "code",
   "execution_count": null,
   "id": "23dcffbe",
   "metadata": {},
   "outputs": [],
   "source": [
    "%pip install -r requirements.txt"
   ]
  },
  {
   "cell_type": "code",
   "execution_count": null,
   "id": "f2cf50aa",
   "metadata": {},
   "outputs": [],
   "source": [
    "import pandas as pd\n",
    "import numpy as np\n",
    "import matplotlib.pyplot as plt\n",
    "import seaborn as sns\n",
    "import matplotlib\n",
    "%matplotlib inline"
   ]
  },
  {
   "cell_type": "code",
   "execution_count": null,
   "id": "8a8a0287",
   "metadata": {},
   "outputs": [],
   "source": [
    "df = pd.read_csv('zomato.csv', encoding='latin-1')\n",
    "df.head(5)"
   ]
  },
  {
   "cell_type": "code",
   "execution_count": null,
   "id": "2c7ee775",
   "metadata": {},
   "outputs": [],
   "source": [
    "df.columns"
   ]
  },
  {
   "cell_type": "code",
   "execution_count": null,
   "id": "ca2ea1c9",
   "metadata": {},
   "outputs": [],
   "source": [
    "df.info()"
   ]
  },
  {
   "cell_type": "code",
   "execution_count": null,
   "id": "b16e0210",
   "metadata": {},
   "outputs": [],
   "source": [
    "df.describe()"
   ]
  },
  {
   "cell_type": "markdown",
   "id": "7adc5ad5",
   "metadata": {},
   "source": [
    "## Things to do in Data Analysis\n",
    "1. Missing values\n",
    "2. Explore about the Numerical variables\n",
    "3. Explore about the Categorical variables\n",
    "4. Finding relationship among features"
   ]
  },
  {
   "cell_type": "code",
   "execution_count": null,
   "id": "684126a3",
   "metadata": {},
   "outputs": [],
   "source": [
    "df.isnull().sum()"
   ]
  },
  {
   "cell_type": "code",
   "execution_count": null,
   "id": "7ba7a390",
   "metadata": {},
   "outputs": [],
   "source": [
    "print([features for features in df.columns if df[features].isnull().sum()>0])"
   ]
  },
  {
   "cell_type": "code",
   "execution_count": null,
   "id": "9ca5a964",
   "metadata": {},
   "outputs": [],
   "source": [
    "sns.heatmap(df.isnull(), yticklabels=False, cbar=False, cmap='viridis')"
   ]
  },
  {
   "cell_type": "code",
   "execution_count": null,
   "id": "b8b60fe6",
   "metadata": {},
   "outputs": [],
   "source": [
    "df_countries = pd.read_excel('Country-Code.xlsx')\n",
    "df_countries.head(5)"
   ]
  },
  {
   "cell_type": "code",
   "execution_count": null,
   "id": "22d97190",
   "metadata": {},
   "outputs": [],
   "source": [
    "final_df = pd.merge(df, df_countries, on='Country Code', how='left')\n",
    "final_df.head(5)"
   ]
  },
  {
   "cell_type": "code",
   "execution_count": null,
   "id": "94132465",
   "metadata": {},
   "outputs": [],
   "source": [
    "final_df.columns"
   ]
  },
  {
   "cell_type": "code",
   "execution_count": null,
   "id": "62345baf",
   "metadata": {},
   "outputs": [],
   "source": [
    "final_df.Country.value_counts()"
   ]
  },
  {
   "cell_type": "code",
   "execution_count": null,
   "id": "8fa6219d",
   "metadata": {},
   "outputs": [],
   "source": [
    "country_names = final_df.Country.value_counts().index\n",
    "country_names"
   ]
  },
  {
   "cell_type": "code",
   "execution_count": null,
   "id": "3b2f7f83",
   "metadata": {},
   "outputs": [],
   "source": [
    "country_values = final_df.Country.value_counts().values\n",
    "country_values"
   ]
  },
  {
   "cell_type": "code",
   "execution_count": null,
   "id": "7bb01b59",
   "metadata": {},
   "outputs": [],
   "source": [
    "plt.pie(country_values, labels=country_names, autopct='%1.1f%%', startangle=140)"
   ]
  },
  {
   "cell_type": "code",
   "execution_count": null,
   "id": "c893ecaf",
   "metadata": {},
   "outputs": [],
   "source": [
    "# Pie chart of top 3 countries that uses zomato\n",
    "plt.pie(country_values[:3], labels=country_names[:3], autopct='%1.2f%%', startangle=140)"
   ]
  },
  {
   "cell_type": "markdown",
   "id": "ba88d543",
   "metadata": {},
   "source": [
    "### Observation\n",
    "Zomato's most number of transaction happens in India, then in US, and then in UK"
   ]
  },
  {
   "cell_type": "code",
   "execution_count": null,
   "id": "043a9447",
   "metadata": {},
   "outputs": [],
   "source": [
    "ratings = final_df.groupby(['Aggregate rating', 'Rating color', 'Rating text']).size().reset_index().rename(columns={0: 'Rating Count'})\n",
    "ratings"
   ]
  },
  {
   "cell_type": "markdown",
   "id": "771353d5",
   "metadata": {},
   "source": [
    "### Observation\n",
    "1. 0 rating -> White | Not rated\n",
    "2. 1.8 - 2.4 rating -> Red | Poor\n",
    "3. 2.5 - 3.4 rating -> Orange | Average\n",
    "4. 3.5 - 3.9 rating -> Yellow | Good\n",
    "5. 4.0 - 4.4 rating -> Green | Good\n",
    "6. 4.5 - 4.9 rating -> Dark Green | Excellent\n"
   ]
  },
  {
   "cell_type": "code",
   "execution_count": null,
   "id": "bb189ffb",
   "metadata": {},
   "outputs": [],
   "source": [
    "matplotlib.rcParams['figure.figsize'] =(12, 6)\n",
    "sns.barplot(x='Aggregate rating', y='Rating Count', data=ratings, hue='Rating color', palette=['white', 'red', 'orange', 'yellow', 'green', 'darkgreen'])"
   ]
  },
  {
   "cell_type": "markdown",
   "id": "f9d21a61",
   "metadata": {},
   "source": [
    "### Observation\n",
    "1. Not rated count is very high.\n",
    "2. Maximum number of ratings are between 2.5 to 3.4"
   ]
  },
  {
   "cell_type": "code",
   "execution_count": null,
   "id": "4939d363",
   "metadata": {},
   "outputs": [],
   "source": [
    "sns.countplot(x='Rating color', data=ratings, palette=['white', 'red', 'orange', 'yellow', 'green', 'darkgreen'])"
   ]
  },
  {
   "cell_type": "code",
   "execution_count": null,
   "id": "6c9314fc",
   "metadata": {},
   "outputs": [],
   "source": [
    "# Find the countries that have given 0 rating\n",
    "zero_rated_countries = final_df[final_df['Rating color'] == 'White'].groupby('Country').size().reset_index().rename(columns={0: 'Zero Rating Count'}).sort_values(by='Zero Rating Count', ascending=False)\n",
    "zero_rated_countries"
   ]
  },
  {
   "cell_type": "markdown",
   "id": "d45fca2e",
   "metadata": {},
   "source": [
    "### Observation\n",
    "1. Maximum number of zero ratings is from India"
   ]
  },
  {
   "cell_type": "code",
   "execution_count": null,
   "id": "bef091b5",
   "metadata": {},
   "outputs": [],
   "source": [
    "# Find out which currency is used by which country\n",
    "currency_used = final_df[['Country', 'Currency']].groupby(['Country', 'Currency']).size().reset_index().rename(columns={0: 'Count'})\n",
    "currency_used"
   ]
  },
  {
   "cell_type": "code",
   "execution_count": null,
   "id": "e4626423",
   "metadata": {},
   "outputs": [],
   "source": [
    "# Find out which countries do have online order option\n",
    "online_order_countries = final_df[final_df['Has Online delivery'] == 'Yes'].Country.value_counts().reset_index()\n",
    "online_order_countries"
   ]
  },
  {
   "cell_type": "code",
   "execution_count": null,
   "id": "29774066",
   "metadata": {},
   "outputs": [],
   "source": [
    "# Find out whether countries do/do not have online order option\n",
    "online_order = final_df[['Country', 'Has Online delivery']].groupby(['Country', 'Has Online delivery']).size().reset_index().rename(columns={0: 'Count'}).sort_values(by='Country', ascending=True)  \n",
    "online_order"
   ]
  },
  {
   "cell_type": "markdown",
   "id": "83e763ac",
   "metadata": {},
   "source": [
    "### Observation\n",
    "1. Online deliveries are available in India and UAE\n",
    "2. For both India and UAE, online deliveries are not available in some regions"
   ]
  },
  {
   "cell_type": "code",
   "execution_count": null,
   "id": "0472d510",
   "metadata": {},
   "outputs": [],
   "source": [
    "# Create a pie chart for cities distribution\n",
    "city_names = final_df.City.value_counts().index\n",
    "city_names\n",
    "city_values = final_df.City.value_counts().values\n",
    "city_values\n",
    "plt.pie(city_values[:5], labels=city_names[:5], autopct='%1.1f%%', startangle=140)"
   ]
  },
  {
   "cell_type": "code",
   "execution_count": null,
   "id": "aa383871",
   "metadata": {},
   "outputs": [],
   "source": [
    "# Find the top 10 cousines\n",
    "top_cousines = final_df.Cuisines.value_counts().reset_index().head(10)\n",
    "top_cousines\n"
   ]
  }
 ],
 "metadata": {
  "kernelspec": {
   "display_name": ".venv",
   "language": "python",
   "name": "python3"
  },
  "language_info": {
   "codemirror_mode": {
    "name": "ipython",
    "version": 3
   },
   "file_extension": ".py",
   "mimetype": "text/x-python",
   "name": "python",
   "nbconvert_exporter": "python",
   "pygments_lexer": "ipython3",
   "version": "3.12.9"
  }
 },
 "nbformat": 4,
 "nbformat_minor": 5
}
